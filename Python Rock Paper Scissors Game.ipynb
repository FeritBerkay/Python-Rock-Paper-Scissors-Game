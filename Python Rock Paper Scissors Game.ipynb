{
 "cells": [
  {
   "cell_type": "code",
   "execution_count": null,
   "metadata": {},
   "outputs": [],
   "source": [
    "import random\n",
    "randomList=[\"P\",\"S\",\"R\"]\n",
    "name=input(\"Name=\")\n",
    "userScore=0\n",
    "computerScore=0\n",
    "computerTakeScore=\"Computer Take Score\"\n",
    "userTakeScore=\"User Take Score\"\n",
    "draw=\"Draw\"\n",
    "while(userScore<4 and computerScore<4):\n",
    "    if(userScore==3):\n",
    "        print(f\"\\n \\n {name} Take The Game\")\n",
    "        break\n",
    "    elif(computerScore==3):\n",
    "        print(\"\\n \\n Computer Take The Game\")\n",
    "        break\n",
    "    userchose=input(\"Chose S, P or R \")\n",
    "    computerchoice=random.choice(randomList)\n",
    "    if(userchose==\"S\" and computerchoice==\"P\"):\n",
    "        userScore+=1\n",
    "        print(userTakeScore)\n",
    "    elif(userchose==\"S\" and computerchoice==\"R\"):\n",
    "        computerScore+=1\n",
    "        print(computerTakeScore)\n",
    "    elif(userchose==\"S\" and computerchoice==\"S\"):\n",
    "        print(draw)\n",
    "    elif(userchose==\"P\" and computerchoice==\"P\"):\n",
    "        print(draw)\n",
    "    elif(userchose==\"P\" and computerchoice==\"R\"):\n",
    "        userScore+=1\n",
    "        print(userTakeScore)\n",
    "    elif(userchose==\"P\" and computerchoice==\"S\"):\n",
    "        computerScore+=1\n",
    "        print(computerTakeScore)\n",
    "    elif(userchose==\"R\" and computerchoice==\"P\"):\n",
    "        computerScore+=1\n",
    "        print(computerTakeScore)\n",
    "    elif(userchose==\"R\" and computerchoice==\"R\"):\n",
    "        print(draw)\n",
    "    elif(userchose==\"R\" and computerchoice==\"S\"):\n",
    "        userScore+=1\n",
    "        print(userTakeScore)"
   ]
  }
 ],
 "metadata": {
  "kernelspec": {
   "display_name": "Python 3",
   "language": "python",
   "name": "python3"
  },
  "language_info": {
   "codemirror_mode": {
    "name": "ipython",
    "version": 3
   },
   "file_extension": ".py",
   "mimetype": "text/x-python",
   "name": "python",
   "nbconvert_exporter": "python",
   "pygments_lexer": "ipython3",
   "version": "3.8.5"
  }
 },
 "nbformat": 4,
 "nbformat_minor": 4
}
